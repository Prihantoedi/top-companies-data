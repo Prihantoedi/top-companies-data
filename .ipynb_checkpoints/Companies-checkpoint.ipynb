{
 "cells": [
  {
   "cell_type": "code",
   "execution_count": 1,
   "id": "984c59da",
   "metadata": {},
   "outputs": [
    {
     "name": "stdout",
     "output_type": "stream",
     "text": [
      "                       Company_name  \\\n",
      "0                               TCS   \n",
      "1                         Accenture   \n",
      "2                         Cognizant   \n",
      "3                             Wipro   \n",
      "4                         Capgemini   \n",
      "...                             ...   \n",
      "9995        Techila Global Services   \n",
      "9996            RxLogix Corporation   \n",
      "9997  Avians Innovations Technology   \n",
      "9998                   ACPL Systems   \n",
      "9999                      Beroe Inc   \n",
      "\n",
      "                                            Description  Ratings  \\\n",
      "0     IT Services & Consulting | 1 Lakh+ Employees |...      3.8   \n",
      "1     IT Services & Consulting | 1 Lakh+ Employees |...      4.0   \n",
      "2     IT Services & Consulting | 1 Lakh+ Employees |...      3.9   \n",
      "3     IT Services & Consulting | 1 Lakh+ Employees |...      3.8   \n",
      "4     IT Services & Consulting | 1 Lakh+ Employees |...      3.9   \n",
      "...                                                 ...      ...   \n",
      "9995  IT Services & Consulting | 501-1k Employees | ...      3.7   \n",
      "9996  Pharma | 201-500 Employees | 14 years old | Pr...      2.6   \n",
      "9997  Building Material | 51-200 Employees | 17 year...      3.7   \n",
      "9998  Law Enforcement & Security | 51-200 Employees ...      3.3   \n",
      "9999  Management Consulting | 201-500 Employees | 19...      4.5   \n",
      "\n",
      "                                       Highly_rated_for  \\\n",
      "0                       Job Security, Work Life Balance   \n",
      "1     Company Culture, Skill Development / Learning,...   \n",
      "2                          Skill Development / Learning   \n",
      "3                                          Job Security   \n",
      "4     Job Security, Work Life Balance, Skill Develop...   \n",
      "...                                                 ...   \n",
      "9995  Work Life Balance, Salary & Benefits, Company ...   \n",
      "9996  Work Life Balance, Work Satisfaction, Company ...   \n",
      "9997  Promotions / Appraisal, Work Satisfaction, Sal...   \n",
      "9998  Promotions / Appraisal, Salary & Benefits, Wor...   \n",
      "9999   Work Life Balance, Job Security, Company Culture   \n",
      "\n",
      "                           Critically_rated_for Total_reviews Avg_salary  \\\n",
      "0     Promotions / Appraisal, Salary & Benefits         73.1k     856.9k   \n",
      "1                                           NaN         46.4k     584.6k   \n",
      "2                        Promotions / Appraisal         41.7k     561.5k   \n",
      "3     Promotions / Appraisal, Salary & Benefits         39.2k     427.4k   \n",
      "4     Promotions / Appraisal, Salary & Benefits           34k     414.4k   \n",
      "...                                         ...           ...        ...   \n",
      "9995                                        NaN            72        454   \n",
      "9996                                        NaN            72        799   \n",
      "9997                                        NaN            72        489   \n",
      "9998                                        NaN            72        520   \n",
      "9999                                        NaN            72        585   \n",
      "\n",
      "     Interviews_taken Total_jobs_available Total_benefits  \n",
      "0                6.1k                  847          11.5k  \n",
      "1                4.3k                 9.9k           7.1k  \n",
      "2                3.6k                  460           5.8k  \n",
      "3                3.7k                  405             5k  \n",
      "4                2.8k                  719             4k  \n",
      "...               ...                  ...            ...  \n",
      "9995                2                   26             21  \n",
      "9996               15                    9             13  \n",
      "9997                3                   11              8  \n",
      "9998                4                    1             10  \n",
      "9999                7                    5             14  \n",
      "\n",
      "[10000 rows x 10 columns]\n"
     ]
    }
   ],
   "source": [
    "import pandas as pd\n",
    "\n",
    "df_companies = pd.read_csv('companies.csv')\n",
    "print(df_companies)"
   ]
  },
  {
   "cell_type": "code",
   "execution_count": null,
   "id": "482a47f6",
   "metadata": {},
   "outputs": [],
   "source": []
  }
 ],
 "metadata": {
  "kernelspec": {
   "display_name": "Python 3 (ipykernel)",
   "language": "python",
   "name": "python3"
  },
  "language_info": {
   "codemirror_mode": {
    "name": "ipython",
    "version": 3
   },
   "file_extension": ".py",
   "mimetype": "text/x-python",
   "name": "python",
   "nbconvert_exporter": "python",
   "pygments_lexer": "ipython3",
   "version": "3.9.0"
  }
 },
 "nbformat": 4,
 "nbformat_minor": 5
}
